{
 "cells": [
  {
   "cell_type": "code",
   "execution_count": 1,
   "metadata": {},
   "outputs": [],
   "source": [
    "import pandas as pd"
   ]
  },
  {
   "cell_type": "code",
   "execution_count": 2,
   "metadata": {
    "scrolled": true
   },
   "outputs": [
    {
     "name": "stderr",
     "output_type": "stream",
     "text": [
      "C:\\Users\\34774\\Anaconda3\\lib\\site-packages\\ipykernel_launcher.py:4: ParserWarning: Falling back to the 'python' engine because the 'c' engine does not support regex separators (separators > 1 char and different from '\\s+' are interpreted as regex); you can avoid this warning by specifying engine='python'.\n",
      "  after removing the cwd from sys.path.\n"
     ]
    }
   ],
   "source": [
    "#定义用户表的列名称\n",
    "unames = ['user_id', 'gender', 'age','occupation', 'zip']\n",
    "#读的时候注意标分隔符为::，且没有表头，故用我们自己定义的表头\n",
    "users = pd.read_table('users.dat', sep = '::', header=None, names=unames)"
   ]
  },
  {
   "cell_type": "code",
   "execution_count": 3,
   "metadata": {},
   "outputs": [
    {
     "name": "stderr",
     "output_type": "stream",
     "text": [
      "C:\\Users\\34774\\Anaconda3\\lib\\site-packages\\ipykernel_launcher.py:2: ParserWarning: Falling back to the 'python' engine because the 'c' engine does not support regex separators (separators > 1 char and different from '\\s+' are interpreted as regex); you can avoid this warning by specifying engine='python'.\n",
      "  \n",
      "C:\\Users\\34774\\Anaconda3\\lib\\site-packages\\ipykernel_launcher.py:4: ParserWarning: Falling back to the 'python' engine because the 'c' engine does not support regex separators (separators > 1 char and different from '\\s+' are interpreted as regex); you can avoid this warning by specifying engine='python'.\n",
      "  after removing the cwd from sys.path.\n"
     ]
    }
   ],
   "source": [
    "rating_names = ['user_id', 'movie_id', 'rating', 'timestamp']\n",
    "ratings = pd.read_table('ratings.dat', sep = '::', header = None, names = rating_names)\n",
    "movie_names = ['movie_id','title','genres']\n",
    "movied = pd.read_table('movies.dat', sep = '::', header = None, names = movie_names)"
   ]
  },
  {
   "cell_type": "code",
   "execution_count": 4,
   "metadata": {},
   "outputs": [],
   "source": [
    "data = pd.merge(pd.merge(users, ratings), movied)"
   ]
  },
  {
   "cell_type": "code",
   "execution_count": 5,
   "metadata": {},
   "outputs": [],
   "source": [
    "ratings_by_title = data.groupby('title').size()"
   ]
  },
  {
   "cell_type": "code",
   "execution_count": 6,
   "metadata": {},
   "outputs": [],
   "source": [
    "selected_movies = ratings_by_title.sort_values(ascending=False).head(400)"
   ]
  },
  {
   "cell_type": "code",
   "execution_count": 7,
   "metadata": {},
   "outputs": [
    {
     "data": {
      "text/plain": [
       "title\n",
       "American Beauty (1999)                                   3428\n",
       "Star Wars: Episode IV - A New Hope (1977)                2991\n",
       "Star Wars: Episode V - The Empire Strikes Back (1980)    2990\n",
       "Star Wars: Episode VI - Return of the Jedi (1983)        2883\n",
       "Jurassic Park (1993)                                     2672\n",
       "Saving Private Ryan (1998)                               2653\n",
       "Terminator 2: Judgment Day (1991)                        2649\n",
       "Matrix, The (1999)                                       2590\n",
       "Back to the Future (1985)                                2583\n",
       "Silence of the Lambs, The (1991)                         2578\n",
       "Men in Black (1997)                                      2538\n",
       "Raiders of the Lost Ark (1981)                           2514\n",
       "Fargo (1996)                                             2513\n",
       "Sixth Sense, The (1999)                                  2459\n",
       "Braveheart (1995)                                        2443\n",
       "Shakespeare in Love (1998)                               2369\n",
       "Princess Bride, The (1987)                               2318\n",
       "Schindler's List (1993)                                  2304\n",
       "L.A. Confidential (1997)                                 2288\n",
       "Groundhog Day (1993)                                     2278\n",
       "E.T. the Extra-Terrestrial (1982)                        2269\n",
       "Star Wars: Episode I - The Phantom Menace (1999)         2250\n",
       "Being John Malkovich (1999)                              2241\n",
       "Shawshank Redemption, The (1994)                         2227\n",
       "Godfather, The (1972)                                    2223\n",
       "Forrest Gump (1994)                                      2194\n",
       "Ghostbusters (1984)                                      2181\n",
       "Pulp Fiction (1994)                                      2171\n",
       "Terminator, The (1984)                                   2098\n",
       "Toy Story (1995)                                         2077\n",
       "                                                         ... \n",
       "Running Man, The (1987)                                   730\n",
       "Deliverance (1972)                                        729\n",
       "It's a Wonderful Life (1946)                              729\n",
       "Jackie Brown (1997)                                       724\n",
       "Go (1999)                                                 723\n",
       "Mad Max Beyond Thunderdome (1985)                         722\n",
       "Hook (1991)                                               722\n",
       "Searching for Bobby Fischer (1993)                        720\n",
       "Donnie Brasco (1997)                                      719\n",
       "Sixteen Candles (1984)                                    719\n",
       "Manhattan (1979)                                          718\n",
       "Hoop Dreams (1994)                                        716\n",
       "Goonies, The (1985)                                       716\n",
       "Night of the Living Dead (1968)                           715\n",
       "Addams Family, The (1991)                                 714\n",
       "Rosemary's Baby (1968)                                    712\n",
       "Cider House Rules, The (1999)                             711\n",
       "Dark Crystal, The (1982)                                  710\n",
       "Dirty Dozen, The (1967)                                   707\n",
       "Quiz Show (1994)                                          705\n",
       "Legends of the Fall (1994)                                705\n",
       "Ben-Hur (1959)                                            704\n",
       "Waking Ned Devine (1998)                                  703\n",
       "Jumanji (1995)                                            701\n",
       "F/X (1986)                                                701\n",
       "Natural Born Killers (1994)                               700\n",
       "Deer Hunter, The (1978)                                   700\n",
       "10 Things I Hate About You (1999)                         700\n",
       "NeverEnding Story, The (1984)                             699\n",
       "Harold and Maude (1971)                                   697\n",
       "Length: 400, dtype: int64"
      ]
     },
     "execution_count": 7,
     "metadata": {},
     "output_type": "execute_result"
    }
   ],
   "source": [
    "#对每一个用户"
   ]
  }
 ],
 "metadata": {
  "kernelspec": {
   "display_name": "Python 3",
   "language": "python",
   "name": "python3"
  },
  "language_info": {
   "codemirror_mode": {
    "name": "ipython",
    "version": 3
   },
   "file_extension": ".py",
   "mimetype": "text/x-python",
   "name": "python",
   "nbconvert_exporter": "python",
   "pygments_lexer": "ipython3",
   "version": "3.6.5"
  }
 },
 "nbformat": 4,
 "nbformat_minor": 2
}
